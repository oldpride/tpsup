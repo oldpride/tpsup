{
 "cells": [
  {
   "cell_type": "code",
   "execution_count": 2,
   "metadata": {},
   "outputs": [],
   "source": [
    "from pprint import pformat\n",
    "import re"
   ]
  },
  {
   "cell_type": "markdown",
   "metadata": {},
   "source": [
    "regex to match a line that contains only \"hello\", \"world\", \"abc\", separated by comma \",\"\n",
    "good examples: \n",
    "hello,world,abc\n",
    "abc,world,hello,hello\n",
    "abc\n",
    "\n",
    "bad example\n",
    "hello world,abc\n",
    "helloworld\n",
    "xyz\n"
   ]
  },
  {
   "cell_type": "code",
   "execution_count": 9,
   "metadata": {},
   "outputs": [
    {
     "name": "stdout",
     "output_type": "stream",
     "text": [
      "Matched: hello,world,abc m.group='hello,world,abc'\n",
      "Matched: abc,world,hello,hello m.group='abc,world,hello,hello'\n",
      "Matched: abc m.group='abc'\n",
      "No match: hello world,abc\n",
      "No match: helloworld\n",
      "No match: xyz\n"
     ]
    }
   ],
   "source": [
    "test_lines = [\n",
    "    \"hello,world,abc\",\n",
    "    \"abc,world,hello,hello\",\n",
    "    \"abc\",\n",
    "    \"hello world,abc\",\n",
    "    \"helloworld\",\n",
    "    \"xyz\",\n",
    "]\n",
    "\n",
    "\n",
    "for line in test_lines:\n",
    "    if m := re.match(r\"((\\b|,)(hello|world|abc)(\\b|,))+$\", line):\n",
    "        print(f\"Matched: {line} m.group={pformat(m.group())}\")\n",
    "    else:\n",
    "        print(f\"No match: {line}\")"
   ]
  },
  {
   "cell_type": "code",
   "execution_count": 33,
   "metadata": {},
   "outputs": [
    {
     "name": "stdout",
     "output_type": "stream",
     "text": [
      "Matched: debug=url\n",
      "m.group='debug'\n",
      "m.group='url'\n",
      "\n",
      "Matched: debug_after=url,title\n",
      "m.group='debug_after'\n",
      "m.group='url,title'\n",
      "\n",
      "No match: debug_before=bad\n",
      "\n",
      "No match: debug_after=url,title2\n",
      "\n",
      "Matched: print=element,domstack,iframestack\n",
      "m.group='print'\n",
      "m.group='element,domstack,iframestack'\n",
      "\n"
     ]
    }
   ],
   "source": [
    "lines = [\n",
    "    'debug=url',\n",
    "    'debug_after=url,title',\n",
    "    'debug_before=bad', \n",
    "    'debug_after=url,title2',\n",
    "    'print=element,domstack,iframestack', \n",
    "]  \n",
    "\n",
    "for locator in lines:\n",
    "    if m := re.match(r\"(print|debug(?:_before|_after)*)=((?:(?:\\b|,)(?:url|title|timeouts|waits|tag|xpath|domstack|iframestack|element))+)$\", locator):\n",
    "        print(f\"Matched: {locator}\")\n",
    "        for e in m.groups(): \n",
    "            print(f\"m.group={pformat(e)}\")\n",
    "    else:\n",
    "        print(f\"No match: {locator}\")\n",
    "    print()"
   ]
  },
  {
   "cell_type": "markdown",
   "metadata": {},
   "source": []
  },
  {
   "cell_type": "code",
   "execution_count": 12,
   "metadata": {},
   "outputs": [
    {
     "name": "stdout",
     "output_type": "stream",
     "text": [
      "line=debug=url, steps=['debug=url']\n",
      "\n",
      "line=debug_after=url,title \"css=#foo\" 'xpath=//div[@id=\"foo\"]' , steps=['debug_after=url,title', 'css=#foo', 'xpath=//div[@id=\"foo\"]']\n",
      "\n",
      "line=xpath=//div[@id=\"foo\"] # this is a comment, steps=['xpath=//div[@id=foo]', '#', 'this', 'is', 'a', 'comment']\n",
      "\n",
      "line=# this is a comment, steps=['#', 'this', 'is', 'a', 'comment']\n",
      "\n"
     ]
    }
   ],
   "source": [
    "import shlex\n",
    "from pprint import pformat\n",
    "\n",
    "lines = [\n",
    "    '''debug=url''',\n",
    "    '''debug_after=url,title \"css=#foo\" 'xpath=//div[@id=\"foo\"]' ''',\n",
    "    '''xpath=//div[@id=\"foo\"] # this is a comment''',\n",
    "    '''# this is a comment''',\n",
    "]\n",
    "\n",
    "for line in lines:\n",
    "    steps = shlex.split(line)\n",
    "    print(f\"line={line}, steps={pformat(steps)}\")\n",
    "    print()\n"
   ]
  },
  {
   "cell_type": "code",
   "execution_count": 18,
   "metadata": {},
   "outputs": [
    {
     "name": "stdout",
     "output_type": "stream",
     "text": [
      "a=abcdef\n"
     ]
    }
   ],
   "source": [
    "# split a long line into multiple lines\n",
    "a = ('abc'\n",
    "     +'def')\n",
    "print(f\"a={a}\")"
   ]
  },
  {
   "cell_type": "code",
   "execution_count": 21,
   "metadata": {},
   "outputs": [
    {
     "name": "stdout",
     "output_type": "stream",
     "text": [
      "Matched: dump=/a/b\n",
      "m.group=None\n",
      "m.group=None\n",
      "m.group='/a/b'\n",
      "\n",
      "Matched: dump_element=/a/b\n",
      "m.group='element'\n",
      "m.group=None\n",
      "m.group='/a/b'\n",
      "\n",
      "Matched: dump_element-clean=/a/b\n",
      "m.group='element'\n",
      "m.group='clean'\n",
      "m.group='/a/b'\n",
      "\n",
      "Matched: dump-clean=/a/b\n",
      "m.group=None\n",
      "m.group='clean'\n",
      "m.group='/a/b'\n",
      "\n"
     ]
    }
   ],
   "source": [
    "lines = [\n",
    "    'dump=/a/b',\n",
    "    'dump_element=/a/b',\n",
    "    'dump_element-clean=/a/b',\n",
    "    'dump-clean=/a/b',\n",
    "]  \n",
    "\n",
    "for locator in lines:\n",
    "    if m := re.match(r\"dump(?:_(element|shadow|iframe|page|all))?(?:-(clean))?=(.+)\", locator):\n",
    "        print(f\"Matched: {locator}\")\n",
    "        for e in m.groups(): \n",
    "            print(f\"m.group={pformat(e)}\")\n",
    "    else:\n",
    "        print(f\"No match: {locator}\")\n",
    "    print()"
   ]
  },
  {
   "cell_type": "code",
   "execution_count": 1,
   "metadata": {},
   "outputs": [
    {
     "name": "stdout",
     "output_type": "stream",
     "text": [
      "line=0123\n",
      "\n",
      "line=012345\n",
      "\n",
      "line=012345\n",
      "\n"
     ]
    }
   ],
   "source": [
    "# test truncate\n",
    "lines = [\n",
    "    '0123',\n",
    "    '0123456789',\n",
    "    '0123456789abcdef',\n",
    "]\n",
    "\n",
    "for line in lines:\n",
    "    print(f\"line={line[:6]}\")\n",
    "    print()"
   ]
  }
 ],
 "metadata": {
  "kernelspec": {
   "display_name": "win10-python3.12",
   "language": "python",
   "name": "python3"
  },
  "language_info": {
   "codemirror_mode": {
    "name": "ipython",
    "version": 3
   },
   "file_extension": ".py",
   "mimetype": "text/x-python",
   "name": "python",
   "nbconvert_exporter": "python",
   "pygments_lexer": "ipython3",
   "version": "3.12.4"
  }
 },
 "nbformat": 4,
 "nbformat_minor": 2
}

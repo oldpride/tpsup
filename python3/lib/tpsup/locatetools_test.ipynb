{
 "cells": [
  {
   "cell_type": "code",
   "execution_count": null,
   "id": "5d09a8c5",
   "metadata": {},
   "outputs": [],
   "source": [
    "import tpsup.locatetools\n",
    "\n",
    "locateEnv = tpsup.locatetools.LocateEnv(\n",
    "    locate_cmd_arg=print, # a dummy function as a place holder\n",
    "    )\n",
    "\n",
    "# locateEnv = tpsup.locatetools.LocateEnv(locate_cmd_arg=print)\n",
    "\n",
    "steps = [\n",
    "    'readstdin=xyz=please enter a number',\n",
    "    'python=print(f\"xyz={xyz}\")',\n",
    "]\n",
    "\n",
    "locateEnv.follow(steps=steps)"
   ]
  }
 ],
 "metadata": {
  "kernelspec": {
   "display_name": "win10-python3.12 (3.12.4)",
   "language": "python",
   "name": "python3"
  },
  "language_info": {
   "codemirror_mode": {
    "name": "ipython",
    "version": 3
   },
   "file_extension": ".py",
   "mimetype": "text/x-python",
   "name": "python",
   "nbconvert_exporter": "python",
   "pygments_lexer": "ipython3",
   "version": "3.12.4"
  }
 },
 "nbformat": 4,
 "nbformat_minor": 5
}

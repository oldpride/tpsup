{
 "cells": [
  {
   "cell_type": "code",
   "execution_count": 2,
   "id": "618abf8e",
   "metadata": {},
   "outputs": [
    {
     "name": "stdout",
     "output_type": "stream",
     "text": [
      "short_titles: ['', 'current time=2025-08-23 02:40:46', '9:40 PM 8/22/2025']\n",
      "longest_short_title: current time=2025-08-23 02:40:46\n"
     ]
    }
   ],
   "source": [
    "title=\"\\rcurrent time=2025-08-23 02:40:46\\r9:40 PM 8/22/2025\"\n",
    "\n",
    "short_titles = title.split('\\r')\n",
    "\n",
    "print(f\"short_titles: {short_titles}\")\n",
    "\n",
    "longest_short_title = max(short_titles, key=len)\n",
    "\n",
    "print(f\"longest_short_title: {longest_short_title}\")"
   ]
  },
  {
   "cell_type": "code",
   "execution_count": null,
   "id": "98aabc6d",
   "metadata": {},
   "outputs": [
    {
     "name": "stdout",
     "output_type": "stream",
     "text": [
      "test_func called\n",
      "code=w2 = w['a']\n",
      "w2=None\n",
      "code=w3 = w['a']\n",
      "w3=None\n",
      "code=w['a']\n",
      "w4=1\n"
     ]
    }
   ],
   "source": [
    "# test exec() part\n",
    "\n",
    "w3 = None\n",
    "def test_func():\n",
    "    print(\"test_func called\")\n",
    "    w = {'a': 1, 'b': 2}\n",
    "\n",
    "    # not working\n",
    "    w2 = None\n",
    "    code = \"w2 = w['a']\"\n",
    "    print(f\"code={code}\")\n",
    "    exec(code, globals(), locals())\n",
    "    print(f\"w2={w2}\")\n",
    "\n",
    "    # not working\n",
    "    global w3\n",
    "    w3=None\n",
    "    code = \"w3 = w['a']\"\n",
    "    print(f\"code={code}\")\n",
    "    exec(code, globals(), locals())\n",
    "    print(f\"w3={w3}\")\n",
    "\n",
    "    # works\n",
    "    w4 = None\n",
    "    code = \"w['a']\"\n",
    "    print(f\"code={code}\")\n",
    "    w4=eval(code, globals(), locals())\n",
    "    print(f\"w4={w4}\")\n",
    "\n",
    "test_func()\n"
   ]
  }
 ],
 "metadata": {
  "kernelspec": {
   "display_name": "win10-python3.12 (3.12.4)",
   "language": "python",
   "name": "python3"
  },
  "language_info": {
   "codemirror_mode": {
    "name": "ipython",
    "version": 3
   },
   "file_extension": ".py",
   "mimetype": "text/x-python",
   "name": "python",
   "nbconvert_exporter": "python",
   "pygments_lexer": "ipython3",
   "version": "3.12.4"
  }
 },
 "nbformat": 4,
 "nbformat_minor": 5
}

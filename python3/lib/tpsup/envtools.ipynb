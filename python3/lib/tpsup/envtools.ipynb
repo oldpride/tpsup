{
 "cells": [
  {
   "cell_type": "code",
   "execution_count": 1,
   "metadata": {},
   "outputs": [
    {
     "ename": "ModuleNotFoundError",
     "evalue": "No module named 'tpsup'",
     "output_type": "error",
     "traceback": [
      "\u001b[1;31m---------------------------------------------------------------------------\u001b[0m",
      "\u001b[1;31mModuleNotFoundError\u001b[0m                       Traceback (most recent call last)",
      "Cell \u001b[1;32mIn[1], line 1\u001b[0m\n\u001b[1;32m----> 1\u001b[0m \u001b[38;5;28;01mfrom\u001b[39;00m \u001b[38;5;21;01mtpsup\u001b[39;00m\u001b[38;5;21;01m.\u001b[39;00m\u001b[38;5;21;01menvtools\u001b[39;00m \u001b[38;5;28;01mimport\u001b[39;00m get_user_fullname\n\u001b[0;32m      3\u001b[0m get_user_fullname()\n",
      "\u001b[1;31mModuleNotFoundError\u001b[0m: No module named 'tpsup'"
     ]
    }
   ],
   "source": [
    "from tpsup.envtools import get_user_fullname\n",
    "\n",
    "get_user_fullname()"
   ]
  }
 ],
 "metadata": {
  "kernelspec": {
   "display_name": "win10-python3.12",
   "language": "python",
   "name": "python3"
  },
  "language_info": {
   "codemirror_mode": {
    "name": "ipython",
    "version": 3
   },
   "file_extension": ".py",
   "mimetype": "text/x-python",
   "name": "python",
   "nbconvert_exporter": "python",
   "pygments_lexer": "ipython3",
   "version": "3.12.4"
  }
 },
 "nbformat": 4,
 "nbformat_minor": 2
}

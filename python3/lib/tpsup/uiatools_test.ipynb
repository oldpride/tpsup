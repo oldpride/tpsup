{
 "cells": [
  {
   "cell_type": "code",
   "execution_count": 2,
   "id": "618abf8e",
   "metadata": {},
   "outputs": [
    {
     "name": "stdout",
     "output_type": "stream",
     "text": [
      "short_titles: ['', 'current time=2025-08-23 02:40:46', '9:40 PM 8/22/2025']\n",
      "longest_short_title: current time=2025-08-23 02:40:46\n"
     ]
    }
   ],
   "source": [
    "title=\"\\rcurrent time=2025-08-23 02:40:46\\r9:40 PM 8/22/2025\"\n",
    "\n",
    "short_titles = title.split('\\r')\n",
    "\n",
    "print(f\"short_titles: {short_titles}\")\n",
    "\n",
    "longest_short_title = max(short_titles, key=len)\n",
    "\n",
    "print(f\"longest_short_title: {longest_short_title}\")"
   ]
  },
  {
   "cell_type": "code",
   "execution_count": null,
   "id": "98aabc6d",
   "metadata": {},
   "outputs": [
    {
     "name": "stdout",
     "output_type": "stream",
     "text": [
      "test_func called\n",
      "code=w2 = w['a']\n",
      "w2=None\n",
      "code=w3 = w['a']\n",
      "w3=None\n",
      "code=w['a']\n",
      "w4=1\n"
     ]
    }
   ],
   "source": [
    "# test exec() part\n",
    "\n",
    "w3 = None\n",
    "def test_func():\n",
    "    print(\"test_func called\")\n",
    "    w = {'a': 1, 'b': 2}\n",
    "\n",
    "    # not working\n",
    "    w2 = None\n",
    "    code = \"w2 = w['a']\"\n",
    "    print(f\"code={code}\")\n",
    "    exec(code, globals(), locals())\n",
    "    print(f\"w2={w2}\")\n",
    "\n",
    "    # not working\n",
    "    global w3\n",
    "    w3=None\n",
    "    code = \"w3 = w['a']\"\n",
    "    print(f\"code={code}\")\n",
    "    exec(code, globals(), locals())\n",
    "    print(f\"w3={w3}\")\n",
    "\n",
    "    # works\n",
    "    w4 = None\n",
    "    code = \"w['a']\"\n",
    "    print(f\"code={code}\")\n",
    "    w4=eval(code, globals(), locals())\n",
    "    print(f\"w4={w4}\")\n",
    "\n",
    "test_func()\n"
   ]
  },
  {
   "cell_type": "code",
   "execution_count": null,
   "id": "b60ec6ce",
   "metadata": {},
   "outputs": [
    {
     "name": "stdout",
     "output_type": "stream",
     "text": [
      "before start app_pid=None\n",
      "app_pid=37144\n",
      "app_pid after connect=21932\n",
      "top_window_pid=21932\n",
      "Control Identifiers:\n",
      "\n",
      "mintty - '-bash                                                  '    (L130, T130, R1025, B711)\n",
      "['mintty', '-bash\\xa0\\xa0\\xa0\\xa0\\xa0\\xa0\\xa0\\xa0\\xa0\\xa0\\xa0\\xa0\\xa0\\xa0\\xa0\\xa0\\xa0\\xa0\\xa0\\xa0\\xa0\\xa0\\xa0\\xa0\\xa0\\xa0\\xa0\\xa0\\xa0\\xa0\\xa0\\xa0\\xa0\\xa0\\xa0\\xa0\\xa0\\xa0\\xa0\\xa0\\xa0\\xa0\\xa0\\xa0\\xa0\\xa0\\xa0\\xa0\\xa0\\xa0', '-bash\\xa0\\xa0\\xa0\\xa0\\xa0\\xa0\\xa0\\xa0\\xa0\\xa0\\xa0\\xa0\\xa0\\xa0\\xa0\\xa0\\xa0\\xa0\\xa0\\xa0\\xa0\\xa0\\xa0\\xa0\\xa0\\xa0\\xa0\\xa0\\xa0\\xa0\\xa0\\xa0\\xa0\\xa0\\xa0\\xa0\\xa0\\xa0\\xa0\\xa0\\xa0\\xa0\\xa0\\xa0\\xa0\\xa0\\xa0\\xa0\\xa0\\xa0mintty']\n",
      "child_window(title=\"-bash                                                  \", class_name=\"mintty\")\n"
     ]
    },
    {
     "data": {
      "text/plain": [
       "<hwndwrapper.DialogWrapper - '-bash                                                  ', mintty, 14814648>"
      ]
     },
     "execution_count": 28,
     "metadata": {},
     "output_type": "execute_result"
    }
   ],
   "source": [
    "from pywinauto.application import Application\n",
    "from time import sleep\n",
    "\n",
    "app = Application()\n",
    "app_pid = app.process\n",
    "print(f\"before start app_pid={app_pid}\")\n",
    "\n",
    "app = app.start(r\"C:\\cygwin64\\bin\\mintty.exe -i /Cygwin-Terminal.ico -\")\n",
    "# get app pid\n",
    "app_pid = app.process\n",
    "print(f\"app_pid={app_pid}\")  # None\n",
    "sleep(2)\n",
    "# top_window = app.top_window()\n",
    "\n",
    "# connect to the window with title matching regex\n",
    "app.connect(title_re=\".*bash.*\")\n",
    "# get app pid\n",
    "app_pid = app.process\n",
    "print(f\"app_pid after connect={app_pid}\") # some prog spawn child process, so app_pid changes\n",
    "top_window = app.top_window()\n",
    "# get top window pid\n",
    "top_window_pid = top_window.process_id()\n",
    "print(f\"top_window_pid={top_window_pid}\")\n",
    "sleep(2)\n",
    "top_window.print_control_identifiers() # this prints nothing\n",
    "top_window.type_keys(\"ls{SPACE}-l{ENTER}\")\n"
   ]
  },
  {
   "cell_type": "code",
   "execution_count": 26,
   "id": "e7f88aeb",
   "metadata": {},
   "outputs": [
    {
     "name": "stdout",
     "output_type": "stream",
     "text": [
      "app_pid after connect=20796\n",
      "top_window_pid=20796\n",
      "Control Identifiers:\n",
      "\n",
      "mintty - 've/c/Users/tian                                                  '    (L2048, T452, R2943, B979)\n",
      "['mintty', 've/c/Users/tian\\xa0\\xa0\\xa0\\xa0\\xa0\\xa0\\xa0\\xa0\\xa0\\xa0\\xa0\\xa0\\xa0\\xa0\\xa0\\xa0\\xa0\\xa0\\xa0\\xa0\\xa0\\xa0\\xa0\\xa0\\xa0\\xa0\\xa0\\xa0\\xa0\\xa0\\xa0\\xa0\\xa0\\xa0\\xa0\\xa0\\xa0\\xa0\\xa0\\xa0\\xa0\\xa0\\xa0\\xa0\\xa0\\xa0\\xa0\\xa0\\xa0\\xa0', 've/c/Users/tian\\xa0\\xa0\\xa0\\xa0\\xa0\\xa0\\xa0\\xa0\\xa0\\xa0\\xa0\\xa0\\xa0\\xa0\\xa0\\xa0\\xa0\\xa0\\xa0\\xa0\\xa0\\xa0\\xa0\\xa0\\xa0\\xa0\\xa0\\xa0\\xa0\\xa0\\xa0\\xa0\\xa0\\xa0\\xa0\\xa0\\xa0\\xa0\\xa0\\xa0\\xa0\\xa0\\xa0\\xa0\\xa0\\xa0\\xa0\\xa0\\xa0\\xa0mintty']\n",
      "child_window(title=\"ve/c/Users/tian                                                  \", class_name=\"mintty\")\n"
     ]
    },
    {
     "data": {
      "text/plain": [
       "<hwndwrapper.DialogWrapper - 've/c/Users/tian                                                  ', mintty, 2622394>"
      ]
     },
     "execution_count": 26,
     "metadata": {},
     "output_type": "execute_result"
    }
   ],
   "source": [
    "from pywinauto.application import Application\n",
    "from time import sleep\n",
    "\n",
    "app = Application()\n",
    "\n",
    "# connect to the window with title matching regex\n",
    "app.connect(title_re=\".*e/c/Users/tian.*\")\n",
    "# get app pid\n",
    "app_pid = app.process\n",
    "print(f\"app_pid after connect={app_pid}\")\n",
    "\n",
    "top_window = app.top_window()\n",
    "# get top window pid\n",
    "top_window_pid = top_window.process_id()\n",
    "print(f\"top_window_pid={top_window_pid}\")\n",
    "sleep(2)\n",
    "top_window.print_control_identifiers() # this prints nothing\n",
    "top_window.type_keys(\"ls{SPACE}-l{ENTER}\")\n"
   ]
  }
 ],
 "metadata": {
  "kernelspec": {
   "display_name": "win10-python3.12 (3.12.4)",
   "language": "python",
   "name": "python3"
  },
  "language_info": {
   "codemirror_mode": {
    "name": "ipython",
    "version": 3
   },
   "file_extension": ".py",
   "mimetype": "text/x-python",
   "name": "python",
   "nbconvert_exporter": "python",
   "pygments_lexer": "ipython3",
   "version": "3.12.4"
  }
 },
 "nbformat": 4,
 "nbformat_minor": 5
}

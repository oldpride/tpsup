{
 "cells": [
  {
   "cell_type": "code",
   "execution_count": 2,
   "id": "56dcf79c",
   "metadata": {},
   "outputs": [
    {
     "name": "stdout",
     "output_type": "stream",
     "text": [
      "x1={'a': 1, 'b': 2}\n",
      "x2={'a': 5, 'b': 2, 'c': 6}\n"
     ]
    }
   ],
   "source": [
    "'''\n",
    "copy to clone\n",
    "update using another dic\n",
    "'''\n",
    "\n",
    "x1 = {'a': 1, 'b': 2}\n",
    "x2 = x1.copy()\n",
    "x2.update({'a':5, 'c':6})\n",
    "\n",
    "print(f\"x1={x1}\")\n",
    "print(f\"x2={x2}\")"
   ]
  }
 ],
 "metadata": {
  "kernelspec": {
   "display_name": "win10-python3.12 (3.12.4)",
   "language": "python",
   "name": "python3"
  },
  "language_info": {
   "codemirror_mode": {
    "name": "ipython",
    "version": 3
   },
   "file_extension": ".py",
   "mimetype": "text/x-python",
   "name": "python",
   "nbconvert_exporter": "python",
   "pygments_lexer": "ipython3",
   "version": "3.12.4"
  }
 },
 "nbformat": 4,
 "nbformat_minor": 5
}

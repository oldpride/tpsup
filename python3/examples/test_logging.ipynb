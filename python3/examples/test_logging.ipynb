{
 "cells": [
  {
   "cell_type": "code",
   "execution_count": 7,
   "id": "24e4e990",
   "metadata": {},
   "outputs": [
    {
     "name": "stderr",
     "output_type": "stream",
     "text": [
      "DEBUG:__main__:your message\n"
     ]
    }
   ],
   "source": [
    "\n",
    "\n",
    "import logging\n",
    "logger = logging.getLogger(__name__)\n",
    "FORMAT = \"[%(filename)s:%(lineno)s - %(funcName)20s() ] %(message)s\"\n",
    "logging.basicConfig(format=FORMAT)\n",
    "logger.setLevel(logging.DEBUG)\n",
    "\n",
    "logger.debug('your message') "
   ]
  },
  {
   "cell_type": "code",
   "execution_count": null,
   "id": "4c7a25a2",
   "metadata": {},
   "outputs": [
    {
     "name": "stdout",
     "output_type": "stream",
     "text": [
      "interactiveshell.py,3577,run_code(): This is a test message.\n"
     ]
    }
   ],
   "source": [
    "import inspect\n",
    "import os\n",
    "\n",
    "def logmsg(msg):\n",
    "    caller = inspect.stack()[1]\n",
    "    print(f\"{os.path.basename(caller.filename)},{caller.lineno},{caller.function}(): {msg}\")\n",
    "\n",
    "logmsg(\"This is a test message.\")"
   ]
  }
 ],
 "metadata": {
  "kernelspec": {
   "display_name": "win10-python3.12 (3.12.4)",
   "language": "python",
   "name": "python3"
  },
  "language_info": {
   "codemirror_mode": {
    "name": "ipython",
    "version": 3
   },
   "file_extension": ".py",
   "mimetype": "text/x-python",
   "name": "python",
   "nbconvert_exporter": "python",
   "pygments_lexer": "ipython3",
   "version": "3.12.4"
  }
 },
 "nbformat": 4,
 "nbformat_minor": 5
}

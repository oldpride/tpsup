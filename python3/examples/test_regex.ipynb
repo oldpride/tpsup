{
 "cells": [
  {
   "cell_type": "code",
   "execution_count": 2,
   "id": "903beda0",
   "metadata": {},
   "outputs": [
    {
     "name": "stdout",
     "output_type": "stream",
     "text": [
      "Matched: dog\n",
      "No match: my cat\n",
      "No match: catfish\n",
      "No match: dog and cat\n"
     ]
    }
   ],
   "source": [
    "import re\n",
    "\n",
    "# Example: Match any string that does NOT contain the word \"cat\"\n",
    "lines = [\n",
    "    \"dog\",\n",
    "    \"my cat\",\n",
    "    \"catfish\",\n",
    "    \"dog and cat\",\n",
    "]\n",
    "\n",
    "pattern = r'^(?!.*cat).*'\n",
    "# Usage:\n",
    "# re.match(pattern, \"dog\")      # Match\n",
    "# re.match(pattern, \"my cat\")   # No match\n",
    "\n",
    "for line in lines:\n",
    "    if re.match(pattern, line):\n",
    "        print(f\"Matched: {line}\")\n",
    "    else:\n",
    "        print(f\"No match: {line}\")"
   ]
  },
  {
   "cell_type": "code",
   "execution_count": null,
   "id": "b4b43788",
   "metadata": {},
   "outputs": [
    {
     "name": "stdout",
     "output_type": "stream",
     "text": [
      "No match: dog cat\n",
      "Matched: my cat\n",
      "   Group 1: cat\n",
      "Matched: catfish\n",
      "   Group 1: cat\n",
      "Matched: dog and cat\n",
      "   Group 1: cat\n"
     ]
    }
   ],
   "source": [
    "import re\n",
    "\n",
    "# Example: Match any 'cat' that is not immediately preceded by \"dog \"\n",
    "# note: (?<!...) is a negative lookbehind assertion, not capturing.\n",
    "pattern_negative_lookbehind = r'(?<!dog )(cat)'\n",
    "\n",
    "test_strings = [\n",
    "    \"dog cat\",      # No match (cat is preceded by 'dog ')\n",
    "    \"my cat\",       # Match (cat is not preceded by 'dog ')\n",
    "    \"catfish\",      # Match (cat is not preceded by 'dog ')\n",
    "    \"dog and cat\",  # Match (cat is not immediately preceded by 'dog ')\n",
    "]\n",
    "\n",
    "for s in test_strings:\n",
    "    if m := re.search(pattern_negative_lookbehind, s):\n",
    "        # print each captured group in a new line\n",
    "        print(f\"Matched: {s}\")\n",
    "        for i, group in enumerate(m.groups(), start=1):\n",
    "            print(f\"   Group {i}: {group}\")\n",
    "    else:\n",
    "        print(f\"No match: {s}\")"
   ]
  },
  {
   "cell_type": "code",
   "execution_count": 9,
   "id": "88ec886c",
   "metadata": {},
   "outputs": [
    {
     "name": "stdout",
     "output_type": "stream",
     "text": [
      "Matched: dog\n",
      "    Group 1: \n",
      "    Group 2: \n",
      "Matched: my cat\n",
      "    Group 1: my \n",
      "    Group 2: \n",
      "Matched: catfish\n",
      "    Group 1: \n",
      "    Group 2: fish\n",
      "Matched: dog and cat\n",
      "    Group 1: dog and \n",
      "    Group 2: \n"
     ]
    }
   ],
   "source": [
    "lines = [\n",
    "    \"dog\",\n",
    "    \"my cat\",\n",
    "    \"catfish\",\n",
    "    \"dog and cat\",\n",
    "]\n",
    "\n",
    "# Example: Non-capturing group pattern to match \"cat\" or \"dog\" without capturing the group\n",
    "\n",
    "non_capture_pattern = r'(.*)(?:cat|dog)(.*)'\n",
    "\n",
    "for text in lines:\n",
    "    if m := re.search(non_capture_pattern, text):\n",
    "        print(f\"Matched: {text}\")\n",
    "        # print each captured group in a new line\n",
    "        for i, group in enumerate(m.groups(), start=1):\n",
    "            print(f\"    Group {i}: {group}\")\n",
    "    else:\n",
    "        print(f\"No match: {text}\")"
   ]
  }
 ],
 "metadata": {
  "kernelspec": {
   "display_name": "win10-python3.12",
   "language": "python",
   "name": "python3"
  },
  "language_info": {
   "codemirror_mode": {
    "name": "ipython",
    "version": 3
   },
   "file_extension": ".py",
   "mimetype": "text/x-python",
   "name": "python",
   "nbconvert_exporter": "python",
   "pygments_lexer": "ipython3",
   "version": "3.12.4"
  }
 },
 "nbformat": 4,
 "nbformat_minor": 5
}

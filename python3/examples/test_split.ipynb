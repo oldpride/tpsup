{
 "cells": [
  {
   "cell_type": "code",
   "execution_count": 7,
   "id": "703dc959",
   "metadata": {},
   "outputs": [
    {
     "name": "stdout",
     "output_type": "stream",
     "text": [
      "\n",
      "worldnal: hello\n",
      "t.split('\\r'): ['hello', 'world']\n",
      "t.split('\\\\r'): ['hello\\rworld']\n",
      "t.split(r'\\r'): ['hello\\rworld']\n",
      "\n",
      "original: hello\\rworld\n",
      "t.split('\\r'): ['hello\\\\rworld']\n",
      "t.split('\\\\r'): ['hello', 'world']\n",
      "t.split(r'\\r'): ['hello', 'world']\n",
      "\n",
      "original: abc 123 def\n",
      "t.split('123 '): ['abc ', 'def']\n",
      "\n",
      "\\r == \\\\r ? True\n"
     ]
    }
   ],
   "source": [
    "'''\n",
    "normal split only split by a str of chars, ie, one or more chars.\n",
    "'''\n",
    "\n",
    "# split with escape char\n",
    "tests = [\n",
    "    \"hello\\rworld\",\n",
    "    r\"hello\\rworld\",\n",
    "    # b\"hello\\rworld\",\n",
    "]\n",
    "\n",
    "for t in tests:\n",
    "    print()\n",
    "    print(f\"original: {t}\")\n",
    "    print(f\"t.split('\\\\r'): {t.split('\\r')}\")\n",
    "    print(f\"t.split('\\\\\\\\r'): {t.split('\\\\r')}\")\n",
    "    print(f\"t.split(r'\\\\r'): {t.split(r'\\r')}\")\n",
    "\n",
    "# split with more than one char\n",
    "tests = [\n",
    "    'abc 123 def',\n",
    "]\n",
    "\n",
    "for t in tests:\n",
    "    print()\n",
    "    print(f\"original: {t}\")\n",
    "    print(f\"t.split('123 '): {t.split('123 ')}\")\n",
    "    \n",
    "\n",
    "# r\"\\r\" is the same as \"\\\\r\"\n",
    "print()\n",
    "print(r\"\\r == \\\\r ?\", r\"\\r\" == \"\\\\r\")"
   ]
  },
  {
   "cell_type": "code",
   "execution_count": null,
   "id": "f40bafa7",
   "metadata": {},
   "outputs": [
    {
     "name": "stdout",
     "output_type": "stream",
     "text": [
      "\n",
      "original: hello [abc def] world\n",
      "re.split(...): ['hello ', 'abc def', ' world']\n",
      "re.split(...): ['hello ', 'abc def', ' world']\n"
     ]
    }
   ],
   "source": [
    "'''\n",
    "split by pattern.\n",
    "for single char, we can use either char set '[...]' or '|' to separate chars.\n",
    "'''\n",
    "tests = [\n",
    "    '''hello [abc def] world''',\n",
    "]\n",
    "\n",
    "import re\n",
    "for t in tests:\n",
    "    print()\n",
    "    print(f\"original: {t}\")\n",
    "    print(f\"re.split(...): {re.split(r'\\[|\\]', t)}\")\n",
    "    print(f\"re.split(...): {re.split(r'[\\[\\]]', t)}\")\n",
    "    "
   ]
  },
  {
   "cell_type": "code",
   "execution_count": 29,
   "id": "eca8c9bf",
   "metadata": {},
   "outputs": [
    {
     "name": "stdout",
     "output_type": "stream",
     "text": [
      "\n",
      "original: hello {abc def} world\n",
      "re.split(...): ['hello ', 'abc def', ' world']\n",
      "re.split(...): ['hello ', 'abc def', ' world']\n",
      "\n",
      "original: hello {abc def} } world\n",
      "re.split(...): ['hello ', 'abc def', ' ', ' world']\n",
      "re.split(...): ['hello ', 'abc def', ' ', ' world']\n",
      "\n",
      "original: hello{abc}world\n",
      "re.split(...): ['hello', 'abc', 'world']\n",
      "re.split(...): ['hello', 'abc', 'world']\n"
     ]
    }
   ],
   "source": [
    "tests = [\n",
    "    '''hello {abc def} world''',\n",
    "    '''hello {abc def} } world''',\n",
    "    '''hello{abc}world''',\n",
    "]\n",
    "\n",
    "import re\n",
    "for t in tests:\n",
    "    print()\n",
    "    print(f\"original: {t}\")\n",
    "    print(f\"re.split(...): {re.split(r'\\{|\\}', t)}\")\n",
    "    print(f\"re.split(...): {re.split(r'[\\{\\}]', t)}\")"
   ]
  },
  {
   "cell_type": "code",
   "execution_count": null,
   "id": "8e26bea0",
   "metadata": {},
   "outputs": [
    {
     "name": "stdout",
     "output_type": "stream",
     "text": [
      "\n",
      "original: hello [abc def] world\n",
      "re.split(...): ['hello ', 'abc def', ' world']\n",
      "\n",
      "worldnal: hello\n",
      "re.split(...): ['hello', 'here', 'world']\n",
      "\n",
      "original: hello\n",
      "here\n",
      "world\n",
      "re.split(...): ['hello', 'here', 'world']\n",
      "\n",
      "original: hello\there\tworld\n",
      "re.split(...): ['hello', 'here', 'world']\n",
      "\n",
      "original: hello{abc}world\n",
      "re.split(...): ['hello', 'abc', 'world']\n"
     ]
    }
   ],
   "source": [
    "\n",
    "\n",
    "tests = [\n",
    "    '''hello [abc def] world''',\n",
    "    '''hello\\rhere\\rworld''',\n",
    "    '''hello\\nhere\\nworld''',\n",
    "    '''hello\\there\\tworld''',\n",
    "    '''hello{abc}world''',\n",
    "]\n",
    "\n",
    "import re\n",
    "for t in tests:\n",
    "    print()\n",
    "    print(f\"original: {t}\")\n",
    "    print(f\"re.split(...): {re.split(r'\\t|\\n|\\r|\\{|\\}|\\]|\\[', t)}\")\n",
    " \n",
    "    "
   ]
  }
 ],
 "metadata": {
  "kernelspec": {
   "display_name": "win10-python3.12 (3.12.4)",
   "language": "python",
   "name": "python3"
  },
  "language_info": {
   "codemirror_mode": {
    "name": "ipython",
    "version": 3
   },
   "file_extension": ".py",
   "mimetype": "text/x-python",
   "name": "python",
   "nbconvert_exporter": "python",
   "pygments_lexer": "ipython3",
   "version": "3.12.4"
  }
 },
 "nbformat": 4,
 "nbformat_minor": 5
}

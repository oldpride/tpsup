{
 "cells": [
  {
   "cell_type": "code",
   "execution_count": null,
   "id": "273d3dfa",
   "metadata": {},
   "outputs": [
    {
     "name": "stdout",
     "output_type": "stream",
     "text": [
      "i=0\n",
      "i=1\n",
      "i=2\n"
     ]
    }
   ],
   "source": [
    "for i in range(0, 3):\n",
    "    print(f\"i={i}\")\n",
    "# 0, 1, 2"
   ]
  },
  {
   "cell_type": "code",
   "execution_count": null,
   "id": "463a73e1",
   "metadata": {},
   "outputs": [
    {
     "name": "stdout",
     "output_type": "stream",
     "text": [
      "i=3\n",
      "i=2\n",
      "i=1\n"
     ]
    }
   ],
   "source": [
    "for i in range(3, 0, -1):\n",
    "    print(f\"i={i}\")\n",
    "\n",
    "# 3, 2, 1"
   ]
  },
  {
   "cell_type": "code",
   "execution_count": 7,
   "id": "022b5ecd",
   "metadata": {},
   "outputs": [
    {
     "name": "stdout",
     "output_type": "stream",
     "text": [
      "array[0]=a\n",
      "array[1]=b\n",
      "array[2]=c\n"
     ]
    }
   ],
   "source": [
    "array = ['a', 'b', 'c']\n",
    "\n",
    "for i in range(0, len(array)):\n",
    "    print(f\"array[{i}]={array[i]}\")"
   ]
  },
  {
   "cell_type": "code",
   "execution_count": 8,
   "id": "03b00013",
   "metadata": {},
   "outputs": [
    {
     "name": "stdout",
     "output_type": "stream",
     "text": [
      "array[0]=a\n",
      "array[1]=b\n",
      "array[2]=c\n"
     ]
    }
   ],
   "source": [
    "array = ['a', 'b', 'c']\n",
    "for index, value in enumerate(array):\n",
    "    print(f\"array[{index}]={value}\")"
   ]
  },
  {
   "cell_type": "code",
   "execution_count": 9,
   "id": "aa013045",
   "metadata": {},
   "outputs": [
    {
     "name": "stdout",
     "output_type": "stream",
     "text": [
      "item=a\n",
      "item=b\n",
      "item=c\n"
     ]
    }
   ],
   "source": [
    "array = ['a', 'b', 'c']\n",
    "for item in array:\n",
    "    print(f\"item={item}\")"
   ]
  },
  {
   "cell_type": "code",
   "execution_count": null,
   "id": "4c7b4352",
   "metadata": {},
   "outputs": [
    {
     "name": "stdout",
     "output_type": "stream",
     "text": [
      "array[2]=c\n",
      "array[1]=b\n",
      "array[0]=a\n"
     ]
    }
   ],
   "source": [
    "# reverse order\n",
    "array = ['a', 'b', 'c']\n",
    "for i in range(\n",
    "    len(array)-1, # start from the last index\n",
    "    -1, # go until index 0, ie, > -1\n",
    "    -1, # step -1\n",
    "    ):\n",
    "    print(f\"array[{i}]={array[i]}\")\n",
    "\n",
    "# c, b, a"
   ]
  },
  {
   "cell_type": "code",
   "execution_count": 18,
   "id": "ab5f7092",
   "metadata": {},
   "outputs": [
    {
     "name": "stdout",
     "output_type": "stream",
     "text": [
      "item=c\n",
      "item=b\n",
      "item=a\n"
     ]
    }
   ],
   "source": [
    "array = ['a', 'b', 'c']\n",
    "for item in reversed(array):\n",
    "    print(f\"item={item}\")\n",
    "# c, b, a"
   ]
  },
  {
   "cell_type": "code",
   "execution_count": null,
   "id": "5b60e7cd",
   "metadata": {},
   "outputs": [
    {
     "name": "stdout",
     "output_type": "stream",
     "text": [
      "array[0]=c\n",
      "array[1]=b\n",
      "array[2]=a\n"
     ]
    }
   ],
   "source": [
    "array = ['a', 'b', 'c']\n",
    "for i, item in enumerate(reversed(array)):\n",
    "    print(f\"array[{i}]={item}\")\n",
    "# array[0]=c\n",
    "# array[1]=b\n",
    "# array[2]=a"
   ]
  }
 ],
 "metadata": {
  "kernelspec": {
   "display_name": "win10-python3.12 (3.12.4)",
   "language": "python",
   "name": "python3"
  },
  "language_info": {
   "codemirror_mode": {
    "name": "ipython",
    "version": 3
   },
   "file_extension": ".py",
   "mimetype": "text/x-python",
   "name": "python",
   "nbconvert_exporter": "python",
   "pygments_lexer": "ipython3",
   "version": "3.12.4"
  }
 },
 "nbformat": 4,
 "nbformat_minor": 5
}
